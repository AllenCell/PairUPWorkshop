{
 "cells": [
  {
   "cell_type": "code",
   "execution_count": 123,
   "id": "deef753b",
   "metadata": {},
   "outputs": [],
   "source": [
    "import os\n",
    "import glob\n",
    "import numpy as np\n",
    "from aicsimageio import AICSImage\n",
    "import tifffile\n",
    "import matplotlib.pyplot as plt\n",
    "from aicsimageio.writers import OmeTiffWriter\n",
    "from cellpose import models, io"
   ]
  },
  {
   "cell_type": "code",
   "execution_count": 133,
   "id": "bcb7f3a3",
   "metadata": {},
   "outputs": [],
   "source": [
    "#file_path = r\"\\\\allen\\aics\\assay-dev\\users\\Sandi\\pair-up\\lauren\\split_channels\\split_ch2\\Par6GFPstock_4dac_antiGFPRb_RbA488_antiAlphaTubms_msA555_DAPI_LG1_pos5_40xOIL_5pt0zoom_stack_ch2.tif\"\n",
    "#file_path = r\"\\\\allen\\aics\\assay-dev\\users\\Sandi\\pair-up\\anthonya\\live-cells\\split_time_new\\C2-modifeid_T=075.tif\"\n",
    "file_path = r\"\\\\allen\\aics\\assay-dev\\users\\Sandi\\pair-up\\blake\\data_08012024\\Prediction_cellpose_50_100_v1_denoised.tiff\""
   ]
  },
  {
   "cell_type": "code",
   "execution_count": 134,
   "id": "47e20bca",
   "metadata": {},
   "outputs": [],
   "source": [
    "img1 = AICSImage(file_path).data\n",
    "img2 = np.squeeze(img1)\n",
    "#model1 = models.Cellpose(gpu=True, model_type=\"cyto3\")\n",
    "model1 = models.CellposeModel(gpu=True, model_type='cyto3', diam_mean=60.0)"
   ]
  },
  {
   "cell_type": "code",
   "execution_count": 135,
   "id": "81fdfef9",
   "metadata": {},
   "outputs": [],
   "source": [
    "#masks, flows, styles, diams = model1.eval(img2, channels=[0,0], diameter=120, do_3D=True)"
   ]
  },
  {
   "cell_type": "code",
   "execution_count": 136,
   "id": "c3baa620",
   "metadata": {
    "scrolled": true
   },
   "outputs": [
    {
     "name": "stderr",
     "output_type": "stream",
     "text": [
      "100%|█████████████████████████████████████████████████████████████████████████████████| 50/50 [00:00<00:00, 139.50it/s]\n"
     ]
    }
   ],
   "source": [
    "masks, flows, styles = model1.eval(img2, channels=[0,0], diameter=50, flow_threshold=0.4, stitch_threshold=0.5, cellprob_threshold=-2.0, do_3D=False, anisotropy=2, z_axis=0, normalize=True, min_size=500) #an = 5.87, celProb = 2, sticth = 0.15, do3D=False"
   ]
  },
  {
   "cell_type": "code",
   "execution_count": 137,
   "id": "9a13a41a",
   "metadata": {},
   "outputs": [
    {
     "name": "stderr",
     "output_type": "stream",
     "text": [
      "no masks found, will not save PNG or outlines\n"
     ]
    }
   ],
   "source": [
    "target_pathg_xyz = r\"\\\\allen\\aics\\assay-dev\\users\\Sandi\\pair-up\\blake\\data_08012024\\Prediction_cellpose_50_100_v1.tif\"\n",
    "io.save_masks(img2, masks, flows, target_pathg_xyz, png=False, tif=True)"
   ]
  },
  {
   "cell_type": "code",
   "execution_count": null,
   "id": "3529fdcb",
   "metadata": {},
   "outputs": [],
   "source": []
  }
 ],
 "metadata": {
  "kernelspec": {
   "display_name": "cellpose",
   "language": "python",
   "name": "cellpose"
  },
  "language_info": {
   "codemirror_mode": {
    "name": "ipython",
    "version": 3
   },
   "file_extension": ".py",
   "mimetype": "text/x-python",
   "name": "python",
   "nbconvert_exporter": "python",
   "pygments_lexer": "ipython3",
   "version": "3.8.18"
  }
 },
 "nbformat": 4,
 "nbformat_minor": 5
}
